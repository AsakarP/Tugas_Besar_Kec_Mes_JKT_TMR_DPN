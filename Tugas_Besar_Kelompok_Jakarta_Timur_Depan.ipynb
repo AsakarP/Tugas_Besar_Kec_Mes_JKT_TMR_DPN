{
 "cells": [
  {
   "cell_type": "code",
   "execution_count": 1,
   "id": "41ea5e49-2674-4502-a400-a0fa3c352b98",
   "metadata": {},
   "outputs": [
    {
     "name": "stdout",
     "output_type": "stream",
     "text": [
      "Requirement already satisfied: xgboost in d:\\anaconda\\lib\\site-packages (2.1.0)\n",
      "Requirement already satisfied: lightgbm in d:\\anaconda\\lib\\site-packages (4.4.0)\n",
      "Requirement already satisfied: numpy in d:\\anaconda\\lib\\site-packages (from xgboost) (1.26.4)\n",
      "Requirement already satisfied: scipy in d:\\anaconda\\lib\\site-packages (from xgboost) (1.11.4)\n"
     ]
    }
   ],
   "source": [
    "!pip install xgboost lightgbm"
   ]
  },
  {
   "cell_type": "code",
   "execution_count": 2,
   "id": "524ebd67-06d5-4cff-a08e-627058d6bb55",
   "metadata": {
    "scrolled": true
   },
   "outputs": [],
   "source": [
    "import pandas as pd\n",
    "import numpy as np\n",
    "import re\n",
    "from sklearn.model_selection import train_test_split\n",
    "from sklearn.linear_model import LinearRegression, Ridge, Lasso, ElasticNet, BayesianRidge, HuberRegressor\n",
    "from sklearn.tree import DecisionTreeRegressor\n",
    "from sklearn.svm import SVR\n",
    "from sklearn.ensemble import GradientBoostingRegressor, RandomForestRegressor, AdaBoostRegressor, ExtraTreesRegressor\n",
    "from sklearn.neighbors import KNeighborsRegressor\n",
    "import xgboost as xgb\n",
    "import lightgbm as lgb\n",
    "from sklearn.metrics import mean_absolute_error\n",
    "from sklearn.impute import SimpleImputer\n",
    "from sklearn.preprocessing import StandardScaler\n",
    "from sklearn.pipeline import Pipeline\n",
    "from sklearn.compose import ColumnTransformer\n",
    "import joblib\n",
    "\n",
    "# Load and preprocess data\n",
    "def load_and_preprocess_data(file_path):\n",
    "    df = pd.read_excel(file_path)\n",
    "    df = df.drop(columns=['No', 'NRP', 'Nama', 'Link Data Rumah'])\n",
    "    df = df.replace(['-', '--'], np.nan)\n",
    "    df['harga rumah'] = df['harga rumah'].apply(lambda x: float(re.sub('[,.]', '', str(x))))\n",
    "    df['keamanan'] = df['keamanan (ada/tidak)'].map({'ada': 1, 'tidak': 0})\n",
    "    df['taman'] = df['taman (ada/tidak)'].map({'ada': 1, 'tidak': 0})\n",
    "    df = pd.get_dummies(df, columns=['Kabupaten/Kota', 'kecamatan', 'kelurahan'], drop_first=True)\n",
    "    df = df.drop(columns=['keamanan (ada/tidak)', 'taman (ada/tidak)'])\n",
    "    X = df.drop(columns=['harga rumah'])\n",
    "    y = df['harga rumah']\n",
    "    return X, y\n",
    "\n",
    "def create_preprocessing_pipeline(X):\n",
    "    numeric_features = X.select_dtypes(include=[np.number]).columns\n",
    "    numeric_transformer = Pipeline(steps=[\n",
    "        ('imputer', SimpleImputer(strategy='mean')),\n",
    "        ('scaler', StandardScaler())\n",
    "    ])\n",
    "    preprocessor = ColumnTransformer(\n",
    "        transformers=[\n",
    "            ('num', numeric_transformer, numeric_features),\n",
    "        ]\n",
    "    )\n",
    "    return preprocessor\n",
    "\n",
    "# Train models\n",
    "def train_models(X, y):\n",
    "    models = {\n",
    "        \"Linear Regression\": LinearRegression(),\n",
    "        \"Decision Tree\": DecisionTreeRegressor(random_state=42),\n",
    "        \"Support Vector Regression\": SVR(kernel='rbf'),\n",
    "        \"Gradient Boosting\": GradientBoostingRegressor(random_state=42),\n",
    "        \"XGBoost\": xgb.XGBRegressor(random_state=42, verbosity=0),\n",
    "        \"Random Forest\": RandomForestRegressor(random_state=42),\n",
    "        \"AdaBoost\": AdaBoostRegressor(random_state=42),\n",
    "        \"KNN Regressor\": KNeighborsRegressor(),\n",
    "        \"Ridge Regression\": Ridge(),\n",
    "        \"Lasso Regression\": Lasso(alpha=1.0, max_iter=100000),\n",
    "        \"ElasticNet Regression\": ElasticNet(alpha=1.0, l1_ratio=0.5, max_iter=100000),\n",
    "        \"Bayesian Ridge\": BayesianRidge(),\n",
    "        \"Huber Regressor\": HuberRegressor(max_iter=100000),\n",
    "        \"Extra Trees Regressor\": ExtraTreesRegressor(random_state=42),\n",
    "        \"LightGBM\": lgb.LGBMRegressor(random_state=42, verbose=-1)\n",
    "    }\n",
    "    \n",
    "    model_errors = {}\n",
    "    \n",
    "    print(f'{\"Model\":30s} Mean Absolute Error')\n",
    "    print('-' * 50)\n",
    "    for model_name, model in models.items():\n",
    "        model.fit(X, y)\n",
    "        y_pred = model.predict(X)\n",
    "        mae = mean_absolute_error(y, y_pred)\n",
    "        model_errors[model_name] = mae\n",
    "        print(f'{model_name:30s} {mae:.2f}')\n",
    "        joblib.dump(model, f'{model_name.lower().replace(\" \", \"_\")}_house_price_model.pkl')\n",
    "    \n",
    "    # Find the best model\n",
    "    best_model_name = min(model_errors, key=model_errors.get)\n",
    "    best_model_mae = model_errors[best_model_name]\n",
    "    \n",
    "    return best_model_name, best_model_mae\n",
    "\n",
    "# Make predictions\n",
    "def predict_house_prices(input_data, preprocessor):\n",
    "    model_paths = [\n",
    "        'linear_regression_house_price_model.pkl',\n",
    "        'decision_tree_house_price_model.pkl',\n",
    "        'support_vector_regression_house_price_model.pkl',\n",
    "        'gradient_boosting_house_price_model.pkl',\n",
    "        'xgboost_house_price_model.pkl',\n",
    "        'random_forest_house_price_model.pkl',\n",
    "        'adaboost_house_price_model.pkl',\n",
    "        'knn_regressor_house_price_model.pkl',\n",
    "        'ridge_regression_house_price_model.pkl',\n",
    "        'lasso_regression_house_price_model.pkl',\n",
    "        'elasticnet_regression_house_price_model.pkl',\n",
    "        'bayesian_ridge_house_price_model.pkl',\n",
    "        'huber_regressor_house_price_model.pkl',\n",
    "        'extra_trees_regressor_house_price_model.pkl',\n",
    "        'lightgbm_house_price_model.pkl'\n",
    "    ]\n",
    "    \n",
    "    predictions = {}\n",
    "    \n",
    "    for model_path in model_paths:\n",
    "        model = joblib.load(model_path)\n",
    "        if not isinstance(input_data, pd.DataFrame):\n",
    "            input_data = pd.DataFrame([input_data])\n",
    "        input_df = preprocessor.transform(input_data)\n",
    "        predicted_price = model.predict(input_df)[0]\n",
    "        model_name = model_path.replace('_house_price_model.pkl', '').replace('_', ' ').title()\n",
    "        predictions[model_name] = f\"Rp {predicted_price:,.2f}\"\n",
    "    \n",
    "    return predictions"
   ]
  },
  {
   "cell_type": "code",
   "execution_count": 3,
   "id": "6eb8bc12-6ad5-460d-a7e1-1b05da38104a",
   "metadata": {},
   "outputs": [],
   "source": [
    "### contoh penggunaan\n",
    "file_path = r\"C:\\Users\\jonat\\Downloads\\datarumah.xlsx\"\n",
    "X, y = load_and_preprocess_data(file_path)\n",
    "preprocessor = create_preprocessing_pipeline(X)\n",
    "X_train, X_test, y_train, y_test = train_test_split(X, y, test_size=0.2, random_state=42)\n",
    "X_train = preprocessor.fit_transform(X_train)\n",
    "X_test = preprocessor.transform(X_test)"
   ]
  },
  {
   "cell_type": "code",
   "execution_count": 4,
   "id": "6230562e-1a6f-488a-bb42-52a3cc7ba759",
   "metadata": {},
   "outputs": [
    {
     "name": "stdout",
     "output_type": "stream",
     "text": [
      "Model                          Mean Absolute Error\n",
      "--------------------------------------------------\n",
      "Linear Regression              69205120916.89\n",
      "Decision Tree                  140114.17\n",
      "Support Vector Regression      46164120443.72\n",
      "Gradient Boosting              52956032798.80\n",
      "XGBoost                        10210504625.20\n",
      "Random Forest                  23063774973.16\n",
      "AdaBoost                       199063433735.76\n",
      "KNN Regressor                  55675675578.62\n",
      "Ridge Regression               69205072133.58\n",
      "Lasso Regression               69205120916.79\n",
      "ElasticNet Regression          69258422052.75\n",
      "Bayesian Ridge                 70547949192.44\n",
      "Huber Regressor                46269192567.72\n",
      "Extra Trees Regressor          141670.99\n",
      "LightGBM                       35646396056.12\n"
     ]
    }
   ],
   "source": [
    "best_model_name, best_model_mae = train_models(X_train, y_train)"
   ]
  },
  {
   "cell_type": "code",
   "execution_count": 5,
   "id": "8d7e1970-73a2-4deb-ab1b-d18a5818a28f",
   "metadata": {},
   "outputs": [],
   "source": [
    "input_data = {\n",
    "    'jumlah kamar tidur': 12,\n",
    "    'jumlah kamar mandi': 5,\n",
    "    'luas tanah (m2)': 200,\n",
    "    'luas bangunan (m2)': 90,\n",
    "    'carport (mobil)': 3,\n",
    "    'pasokan listrik (watt)': 7000,\n",
    "    'Kabupaten/Kota_Jakarta Timur': 1,\n",
    "    'kecamatan_Pengadegan': 1,\n",
    "    'kelurahan_Pancoran': 1,\n",
    "    'keamanan': 1,  # Assuming 'ada' is encoded as 1\n",
    "    'taman': 1,  # Assuming 'ada' is encoded as 1\n",
    "    'jarak dengan rumah sakit terdekat (km)': 0.9,\n",
    "    'jarak dengan sekolah terdekat (km)': 12,\n",
    "    'jarak dengan tol terdekat (km)': 12\n",
    "}"
   ]
  },
  {
   "cell_type": "code",
   "execution_count": 6,
   "id": "a36d33fb-a6b5-4a76-a6f4-d5f4dff559ef",
   "metadata": {},
   "outputs": [],
   "source": [
    "### melakukan one hot encoding pada data kategorikal\n",
    "input_data_df = pd.DataFrame([input_data])"
   ]
  },
  {
   "cell_type": "code",
   "execution_count": 7,
   "id": "d4792323-ffea-4da6-97cb-5fc9ca291a63",
   "metadata": {},
   "outputs": [],
   "source": [
    "### melakukan prediksi harga rumah terhadap setiap model\n",
    "predictions = predict_house_prices(input_data_df, preprocessor)"
   ]
  },
  {
   "cell_type": "code",
   "execution_count": 8,
   "id": "9738d814-b0bc-4be0-a85f-4e409c3741f4",
   "metadata": {},
   "outputs": [
    {
     "name": "stdout",
     "output_type": "stream",
     "text": [
      "\n",
      "Best Model: Decision Tree\n",
      "Best Model Prediction: Rp 220,000,000,000.00\n"
     ]
    }
   ],
   "source": [
    "### melakukan print model terbaik dan harga prediksinya\n",
    "print(f'\\nBest Model: {best_model_name}')\n",
    "print(f'Best Model Prediction: {predictions[best_model_name]}')\n"
   ]
  },
  {
   "cell_type": "code",
   "execution_count": 9,
   "id": "f9655d8c-48ce-4eeb-9ab0-33f6d741ea79",
   "metadata": {},
   "outputs": [
    {
     "name": "stdout",
     "output_type": "stream",
     "text": [
      "\n",
      "Other Models:\n",
      "Adaboost                       Rp 167,148,040,540.54\n",
      "Bayesian Ridge                 Rp 49,302,812,558.38\n",
      "Elasticnet Regression          Rp 67,954,617,141.77\n",
      "Extra Trees Regressor          Rp 150,599,800,000.00\n",
      "Gradient Boosting              Rp 149,074,708,781.92\n",
      "Huber Regressor                Rp 7,574,143,281.83\n",
      "Knn Regressor                  Rp 158,340,000,000.00\n",
      "Lasso Regression               Rp 71,126,706,551.37\n",
      "Lightgbm                       Rp 119,029,637,637.58\n",
      "Linear Regression              Rp 71,126,706,546.65\n",
      "Random Forest                  Rp 317,423,300,000.00\n",
      "Ridge Regression               Rp 71,130,183,877.09\n",
      "Support Vector Regression      Rp 6,000,000,020.03\n",
      "Xgboost                        Rp 133,474,615,296.00\n"
     ]
    }
   ],
   "source": [
    "# melakukan print tebakan harga oleh model lain\n",
    "print(\"\\nOther Models:\")\n",
    "for model_name, predicted_price in sorted(predictions.items(), key=lambda x: x[0]):\n",
    "    if model_name != best_model_name:\n",
    "        print(f'{model_name:30s} {predicted_price}')\n"
   ]
  }
 ],
 "metadata": {
  "kernelspec": {
   "display_name": "Python 3 (ipykernel)",
   "language": "python",
   "name": "python3"
  },
  "language_info": {
   "codemirror_mode": {
    "name": "ipython",
    "version": 3
   },
   "file_extension": ".py",
   "mimetype": "text/x-python",
   "name": "python",
   "nbconvert_exporter": "python",
   "pygments_lexer": "ipython3",
   "version": "3.11.7"
  }
 },
 "nbformat": 4,
 "nbformat_minor": 5
}
